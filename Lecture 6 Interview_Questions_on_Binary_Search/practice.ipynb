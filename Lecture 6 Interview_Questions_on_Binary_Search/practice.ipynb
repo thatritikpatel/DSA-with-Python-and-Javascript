{
 "cells": [
  {
   "cell_type": "code",
   "execution_count": 15,
   "metadata": {},
   "outputs": [
    {
     "name": "stdout",
     "output_type": "stream",
     "text": [
      "4 - 90\n",
      "5 - 120\n"
     ]
    }
   ],
   "source": [
    "## Time complexity: O(n)\n",
    "## Two pointer approach\n",
    "def two_sum(arr,target_sum):\n",
    "    left = 0\n",
    "    right = len(arr)-1\n",
    "\n",
    "    while(left<right):\n",
    "        if(arr[left]+arr[right]==target_sum):\n",
    "            return left,right\n",
    "        elif(arr[left]+arr[right]>target_sum):\n",
    "            right-=1\n",
    "        else:\n",
    "            left+=1\n",
    "    return -1,-1\n",
    "        \n",
    "## Driver code\n",
    "arr = [20, 40, 60, 80, 90, 120, 240]\n",
    "target_sum = 210\n",
    "result = two_sum(arr, target_sum)\n",
    "print(result[0],\"-\",arr[result[0]])\n",
    "print(result[1],\"-\",arr[result[1]])"
   ]
  },
  {
   "cell_type": "code",
   "execution_count": 12,
   "metadata": {},
   "outputs": [
    {
     "name": "stdout",
     "output_type": "stream",
     "text": [
      "The maximum profit of buying and selling the stocks is: 15\n"
     ]
    }
   ],
   "source": [
    "## function definition\n",
    "## time complexity: O(n)\n",
    "\n",
    "def findmaxProfit(price):\n",
    "    min_value = float('inf')\n",
    "    maxProfit_value = 0\n",
    "\n",
    "    for i in range(len(price)):\n",
    "        if(price[i]< min_value):\n",
    "            min_value = price[i]\n",
    "        elif(price[i]-min_value > maxProfit_value):\n",
    "            maxProfit_value = price[i]-min_value\n",
    "    \n",
    "    return maxProfit_value\n",
    "\n",
    "## Driver code\n",
    "price = [1,4,5,3,6,16]\n",
    "# price = [16,15,14,10,8,1]\n",
    "# price = [16,15,14,10,8,7]\n",
    "\n",
    "maxProfit_value = findmaxProfit(price)\n",
    "print(\"The maximum profit of buying and selling the stocks is:\", maxProfit_value)"
   ]
  }
 ],
 "metadata": {
  "kernelspec": {
   "display_name": "Python 3",
   "language": "python",
   "name": "python3"
  },
  "language_info": {
   "codemirror_mode": {
    "name": "ipython",
    "version": 3
   },
   "file_extension": ".py",
   "mimetype": "text/x-python",
   "name": "python",
   "nbconvert_exporter": "python",
   "pygments_lexer": "ipython3",
   "version": "3.12.7"
  }
 },
 "nbformat": 4,
 "nbformat_minor": 2
}
