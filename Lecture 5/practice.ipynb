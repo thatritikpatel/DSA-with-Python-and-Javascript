{
 "cells": [
  {
   "cell_type": "code",
   "execution_count": null,
   "metadata": {},
   "outputs": [
    {
     "data": {
      "text/plain": [
       "3"
      ]
     },
     "execution_count": 6,
     "metadata": {},
     "output_type": "execute_result"
    }
   ],
   "source": [
    "#linear search\n",
    "def linear_search(arr,target):\n",
    "    for i in range(len(arr)):\n",
    "        if target == arr[i]:\n",
    "            return i\n",
    "    else:\n",
    "        return -1\n",
    "\n",
    "arr = [20, 45, 27, 47, 55, 67, 75, 88, 90]\n",
    "x = 47\n",
    "\n",
    "linear_search(arr,x)"
   ]
  },
  {
   "cell_type": "code",
   "execution_count": null,
   "metadata": {},
   "outputs": [],
   "source": [
    "\n",
    "\n",
    "arr = [20, 45, 27, 47, 55, 67, 75, 88, 90]\n",
    "x = 47"
   ]
  }
 ],
 "metadata": {
  "kernelspec": {
   "display_name": "Python 3",
   "language": "python",
   "name": "python3"
  },
  "language_info": {
   "codemirror_mode": {
    "name": "ipython",
    "version": 3
   },
   "file_extension": ".py",
   "mimetype": "text/x-python",
   "name": "python",
   "nbconvert_exporter": "python",
   "pygments_lexer": "ipython3",
   "version": "3.12.7"
  }
 },
 "nbformat": 4,
 "nbformat_minor": 2
}
