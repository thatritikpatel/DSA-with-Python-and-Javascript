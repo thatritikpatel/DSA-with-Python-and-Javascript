{
 "cells": [
  {
   "cell_type": "code",
   "execution_count": null,
   "metadata": {},
   "outputs": [
    {
     "data": {
      "text/plain": [
       "3"
      ]
     },
     "execution_count": 6,
     "metadata": {},
     "output_type": "execute_result"
    }
   ],
   "source": [
    "#linear search\n",
    "def linear_search(arr,target):\n",
    "    for i in range(len(arr)):\n",
    "        if target == arr[i]:\n",
    "            return i\n",
    "    else:\n",
    "        return -1\n",
    "\n",
    "arr = [20, 45, 27, 47, 55, 67, 75, 88, 90]\n",
    "x = 47\n",
    "\n",
    "linear_search(arr,x)"
   ]
  },
  {
   "cell_type": "code",
   "execution_count": 21,
   "metadata": {},
   "outputs": [
    {
     "name": "stdout",
     "output_type": "stream",
     "text": [
      "Searching element is present at the location: 7\n"
     ]
    }
   ],
   "source": [
    "## Binary Search Algorithm using recursion\n",
    "## function definition\n",
    "def binarySearch(arr, target,left,right):\n",
    "    while left <= right:\n",
    "        mid = left + (right-left)//2\n",
    "        if(arr[mid] == target):\n",
    "            return mid\n",
    "        elif(arr[mid]>target):\n",
    "            return binarySearch(arr, target,left,mid-1)\n",
    "        else:\n",
    "            return binarySearch(arr, target,mid+1,right)\n",
    "\n",
    "    return -1\n",
    "## Driver code\n",
    "arr = [20, 30, 40, 50, 60, 70, 80, 90]\n",
    "target= 90\n",
    "\n",
    "left = 0\n",
    "right = len(arr) - 1\n",
    "## function calling\n",
    "result = binarySearch(arr, target,left,right)\n",
    "print(\"Searching element is present at the location:\",result)"
   ]
  },
  {
   "cell_type": "code",
   "execution_count": 26,
   "metadata": {},
   "outputs": [
    {
     "name": "stdout",
     "output_type": "stream",
     "text": [
      "Searching element is present at the location: 1\n"
     ]
    }
   ],
   "source": [
    "## Binary Search Algorithm without using recursion(iterative)\n",
    "## function definition\n",
    "def binarySearch(arr, target,left,right):\n",
    "    while left <= right:\n",
    "        mid = left + (right-left)//2\n",
    "        if(arr[mid] == target):\n",
    "            return mid\n",
    "        elif(arr[mid]>target):\n",
    "            right = mid-1\n",
    "        else:\n",
    "            left = mid+1\n",
    "\n",
    "    return -1\n",
    "## Driver code\n",
    "arr = [20, 30, 40, 50, 60, 70, 80, 90]\n",
    "\n",
    "left = 0\n",
    "right = len(arr) - 1\n",
    "\n",
    "\n",
    "target= 30\n",
    "## function calling\n",
    "result = binarySearch(arr, target,left,right)\n",
    "print(\"Searching element is present at the location:\",result)"
   ]
  }
 ],
 "metadata": {
  "kernelspec": {
   "display_name": "Python 3",
   "language": "python",
   "name": "python3"
  },
  "language_info": {
   "codemirror_mode": {
    "name": "ipython",
    "version": 3
   },
   "file_extension": ".py",
   "mimetype": "text/x-python",
   "name": "python",
   "nbconvert_exporter": "python",
   "pygments_lexer": "ipython3",
   "version": "3.12.7"
  }
 },
 "nbformat": 4,
 "nbformat_minor": 2
}
